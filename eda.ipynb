{
 "cells": [
  {
   "cell_type": "markdown",
   "metadata": {},
   "source": [
    "### useful stats \n",
    "\n",
    "number of ids/participants = 27  \n",
    "average time span = 78 days  \n",
    "average mood measurements = 208  \n",
    "mood meaurements per day = 2.6   \n",
    "average time between mood measurements =   \n"
   ]
  },
  {
   "cell_type": "code",
   "execution_count": 3,
   "metadata": {},
   "outputs": [],
   "source": [
    "import pandas as pd\n",
    "import numpy as np\n",
    "import matplotlib.pyplot as plt"
   ]
  },
  {
   "cell_type": "markdown",
   "metadata": {},
   "source": [
    "#### read data - change you to where you have dataset_mood_smartphone saved"
   ]
  },
  {
   "cell_type": "code",
   "execution_count": 4,
   "metadata": {},
   "outputs": [],
   "source": [
    "parse_dates = ['time']\n",
    "df = pd.read_csv(\"../dataset_mood_smartphone.csv\") #,parse_dates=parse_dates)\n",
    "df = df[['id','time','variable','value']]"
   ]
  },
  {
   "cell_type": "code",
   "execution_count": 5,
   "metadata": {},
   "outputs": [],
   "source": [
    "# splitting time into date and hour\n",
    "df[['date', 'hour']] = df['time'].str.split(' ', 1, expand=True)\n",
    "df['date'] =  pd.to_datetime(df['date'], format='%Y-%m-%d')\n",
    "df['hour'] =  pd.to_datetime(df['hour'], format='%H:%M:%S.%f').dt.hour"
   ]
  },
  {
   "cell_type": "code",
   "execution_count": 6,
   "metadata": {},
   "outputs": [
    {
     "data": {
      "text/plain": [
       "id                  object\n",
       "time                object\n",
       "variable            object\n",
       "value              float64\n",
       "date        datetime64[ns]\n",
       "hour                 int64\n",
       "dtype: object"
      ]
     },
     "execution_count": 6,
     "metadata": {},
     "output_type": "execute_result"
    }
   ],
   "source": [
    "df.dtypes"
   ]
  },
  {
   "cell_type": "code",
   "execution_count": 7,
   "metadata": {},
   "outputs": [
    {
     "data": {
      "text/plain": [
       "id            0\n",
       "time          0\n",
       "variable      0\n",
       "value       202\n",
       "date          0\n",
       "hour          0\n",
       "dtype: int64"
      ]
     },
     "execution_count": 7,
     "metadata": {},
     "output_type": "execute_result"
    }
   ],
   "source": [
    "df.isna().sum()"
   ]
  },
  {
   "cell_type": "code",
   "execution_count": 8,
   "metadata": {},
   "outputs": [],
   "source": [
    "df = df[df['value'].notna()]"
   ]
  },
  {
   "cell_type": "code",
   "execution_count": 9,
   "metadata": {},
   "outputs": [],
   "source": [
    "neg = df[df['value']<0]"
   ]
  },
  {
   "cell_type": "code",
   "execution_count": 10,
   "metadata": {},
   "outputs": [
    {
     "data": {
      "text/plain": [
       "circumplex.arousal      2133\n",
       "circumplex.valence       320\n",
       "appCat.builtin             3\n",
       "appCat.entertainment       1\n",
       "Name: variable, dtype: int64"
      ]
     },
     "execution_count": 10,
     "metadata": {},
     "output_type": "execute_result"
    }
   ],
   "source": [
    "neg.variable.value_counts()"
   ]
  },
  {
   "cell_type": "code",
   "execution_count": 11,
   "metadata": {},
   "outputs": [],
   "source": [
    "variables_that_can_be_negative = ['circumplex.arousal','circumplex.valence']\n",
    "df = df.drop(df[(df['value']<0)&(~df['variable'].isin(variables_that_can_be_negative))].index)"
   ]
  },
  {
   "cell_type": "code",
   "execution_count": 15,
   "metadata": {},
   "outputs": [],
   "source": [
    "# checking for 'impossible' values\n",
    "#df[(df['value']>10)&(df['variable']=='mood')]\n",
    "#df[(df['value']>2)&(df['variable'].isin(variables_that_can_be_negative))]\n",
    "#df[(df['value']>1)&(df['variable']=='activity')]\n",
    "#df[['value']][df['variable']=='call'].sort_values('value',ascending=False)\n",
    "#df[['value']][df['variable']=='sms'].sort_values('value',ascending=False)\n",
    "#df[df['variable']=='screen'].sort_values('value',ascending=False)\n",
    "\n",
    "# assuming that time spent variables are recorded automatically"
   ]
  },
  {
   "cell_type": "code",
   "execution_count": 12,
   "metadata": {},
   "outputs": [],
   "source": [
    "df = df.sort_values(['id','time'])\n",
    "mood = df[df['variable']=='mood']\n",
    "mood=mood.groupby(['id','date']).mean().reset_index()"
   ]
  },
  {
   "cell_type": "code",
   "execution_count": 71,
   "metadata": {},
   "outputs": [
    {
     "data": {
      "text/html": [
       "<div>\n",
       "<style scoped>\n",
       "    .dataframe tbody tr th:only-of-type {\n",
       "        vertical-align: middle;\n",
       "    }\n",
       "\n",
       "    .dataframe tbody tr th {\n",
       "        vertical-align: top;\n",
       "    }\n",
       "\n",
       "    .dataframe thead th {\n",
       "        text-align: right;\n",
       "    }\n",
       "</style>\n",
       "<table border=\"1\" class=\"dataframe\">\n",
       "  <thead>\n",
       "    <tr style=\"text-align: right;\">\n",
       "      <th></th>\n",
       "      <th>id</th>\n",
       "      <th>date</th>\n",
       "      <th>value</th>\n",
       "      <th>hour</th>\n",
       "    </tr>\n",
       "  </thead>\n",
       "  <tbody>\n",
       "    <tr>\n",
       "      <th>0</th>\n",
       "      <td>AS14.01</td>\n",
       "      <td>2014-02-26</td>\n",
       "      <td>6.250000</td>\n",
       "      <td>16.750000</td>\n",
       "    </tr>\n",
       "    <tr>\n",
       "      <th>1</th>\n",
       "      <td>AS14.01</td>\n",
       "      <td>2014-02-27</td>\n",
       "      <td>6.333333</td>\n",
       "      <td>12.000000</td>\n",
       "    </tr>\n",
       "    <tr>\n",
       "      <th>2</th>\n",
       "      <td>AS14.01</td>\n",
       "      <td>2014-03-21</td>\n",
       "      <td>6.200000</td>\n",
       "      <td>15.000000</td>\n",
       "    </tr>\n",
       "    <tr>\n",
       "      <th>3</th>\n",
       "      <td>AS14.01</td>\n",
       "      <td>2014-03-22</td>\n",
       "      <td>6.400000</td>\n",
       "      <td>14.800000</td>\n",
       "    </tr>\n",
       "    <tr>\n",
       "      <th>4</th>\n",
       "      <td>AS14.01</td>\n",
       "      <td>2014-03-23</td>\n",
       "      <td>6.800000</td>\n",
       "      <td>15.400000</td>\n",
       "    </tr>\n",
       "    <tr>\n",
       "      <th>...</th>\n",
       "      <td>...</td>\n",
       "      <td>...</td>\n",
       "      <td>...</td>\n",
       "      <td>...</td>\n",
       "    </tr>\n",
       "    <tr>\n",
       "      <th>1263</th>\n",
       "      <td>AS14.33</td>\n",
       "      <td>2014-05-27</td>\n",
       "      <td>6.200000</td>\n",
       "      <td>15.400000</td>\n",
       "    </tr>\n",
       "    <tr>\n",
       "      <th>1264</th>\n",
       "      <td>AS14.33</td>\n",
       "      <td>2014-05-28</td>\n",
       "      <td>8.200000</td>\n",
       "      <td>16.000000</td>\n",
       "    </tr>\n",
       "    <tr>\n",
       "      <th>1265</th>\n",
       "      <td>AS14.33</td>\n",
       "      <td>2014-05-29</td>\n",
       "      <td>7.000000</td>\n",
       "      <td>12.666667</td>\n",
       "    </tr>\n",
       "    <tr>\n",
       "      <th>1266</th>\n",
       "      <td>AS14.33</td>\n",
       "      <td>2014-05-30</td>\n",
       "      <td>6.800000</td>\n",
       "      <td>12.200000</td>\n",
       "    </tr>\n",
       "    <tr>\n",
       "      <th>1267</th>\n",
       "      <td>AS14.33</td>\n",
       "      <td>2014-05-31</td>\n",
       "      <td>7.000000</td>\n",
       "      <td>12.000000</td>\n",
       "    </tr>\n",
       "  </tbody>\n",
       "</table>\n",
       "<p>1268 rows × 4 columns</p>\n",
       "</div>"
      ],
      "text/plain": [
       "           id       date     value       hour\n",
       "0     AS14.01 2014-02-26  6.250000  16.750000\n",
       "1     AS14.01 2014-02-27  6.333333  12.000000\n",
       "2     AS14.01 2014-03-21  6.200000  15.000000\n",
       "3     AS14.01 2014-03-22  6.400000  14.800000\n",
       "4     AS14.01 2014-03-23  6.800000  15.400000\n",
       "...       ...        ...       ...        ...\n",
       "1263  AS14.33 2014-05-27  6.200000  15.400000\n",
       "1264  AS14.33 2014-05-28  8.200000  16.000000\n",
       "1265  AS14.33 2014-05-29  7.000000  12.666667\n",
       "1266  AS14.33 2014-05-30  6.800000  12.200000\n",
       "1267  AS14.33 2014-05-31  7.000000  12.000000\n",
       "\n",
       "[1268 rows x 4 columns]"
      ]
     },
     "execution_count": 71,
     "metadata": {},
     "output_type": "execute_result"
    }
   ],
   "source": [
    "mood #['id'].unique()"
   ]
  },
  {
   "cell_type": "code",
   "execution_count": 74,
   "metadata": {},
   "outputs": [
    {
     "data": {
      "image/png": "[encoded data removed]",
      "text/plain": [
       "<Figure size 432x288 with 1 Axes>"
      ]
     },
     "metadata": {
      "needs_background": "light"
     },
     "output_type": "display_data"
    }
   ],
   "source": [
    "\n",
    "fig = plt.figure()\n",
    "ax = plt.axes()\n",
    "\n",
    "x = mood['date']\n",
    "y = mood['value'] #[mood['variable']=='mood']\n",
    "ax.plot(x, y);"
   ]
  },
  {
   "cell_type": "code",
   "execution_count": 26,
   "metadata": {},
   "outputs": [],
   "source": [
    "df.to_csv(\"../dataset_mood_smartphone_clean.csv\",index=False)"
   ]
  },
  {
   "cell_type": "markdown",
   "metadata": {},
   "source": [
    "### distribution of target variable"
   ]
  },
  {
   "cell_type": "code",
   "execution_count": 229,
   "metadata": {},
   "outputs": [
    {
     "data": {
      "image/png": "[encoded data removed]",
      "text/plain": [
       "<Figure size 432x288 with 1 Axes>"
      ]
     },
     "metadata": {},
     "output_type": "display_data"
    }
   ],
   "source": [
    "mood = df[df['variable']=='mood']\n",
    "mood = mood[['id','value']].groupby(['id']).count()\n",
    "mood.plot.hist(grid=True, bins=20, rwidth=0.9,\n",
    "                   color='#607c8e')\n",
    "plt.title('mood recordings per participant')\n",
    "plt.xlabel('Counts')\n",
    "plt.ylabel('timespan')\n",
    "plt.grid(axis='y', alpha=0.75)"
   ]
  },
  {
   "cell_type": "code",
   "execution_count": 261,
   "metadata": {},
   "outputs": [
    {
     "data": {
      "text/plain": [
       "208.92592592592592"
      ]
     },
     "execution_count": 261,
     "metadata": {},
     "output_type": "execute_result"
    }
   ],
   "source": [
    "# average number of mood measurements\n",
    "mood.value.mean()"
   ]
  },
  {
   "cell_type": "code",
   "execution_count": 9,
   "metadata": {},
   "outputs": [
    {
     "data": {
      "image/png": "[encoded data removed]",
      "text/plain": [
       "<Figure size 432x288 with 1 Axes>"
      ]
     },
     "metadata": {
      "needs_background": "light"
     },
     "output_type": "display_data"
    }
   ],
   "source": [
    "#distribution of mood rating\n",
    "\n",
    "mood = df[df['variable']=='mood']\n",
    "mood = mood[['id','value']].groupby(['id']).mean()\n",
    "mood.plot.hist(grid=True, bins=20, rwidth=0.9,\n",
    "                   color='#607c8e')\n",
    "plt.title('mood recordings per participant')\n",
    "plt.xlabel('Counts')\n",
    "plt.ylabel('timespan')\n",
    "plt.grid(axis='y', alpha=0.75)"
   ]
  },
  {
   "cell_type": "markdown",
   "metadata": {},
   "source": [
    "### creating data table with unstacked variables"
   ]
  },
  {
   "cell_type": "markdown",
   "metadata": {},
   "source": [
    "#### some variables can be averaged, others should be summed. Therefore, two groupbys are required"
   ]
  },
  {
   "cell_type": "code",
   "execution_count": 14,
   "metadata": {},
   "outputs": [],
   "source": [
    "agg = ['mood','circumplex.arousal','circumplex.valence','activity']\n",
    "df_agg = df[df['variable'].isin(agg)]\n",
    "df_sum = df[~df['variable'].isin(agg)]"
   ]
  },
  {
   "cell_type": "code",
   "execution_count": 15,
   "metadata": {},
   "outputs": [
    {
     "name": "stderr",
     "output_type": "stream",
     "text": [
      "/Users/benplatten/.pyenv/versions/werkcollege/lib/python3.7/site-packages/pandas/core/generic.py:3887: PerformanceWarning: dropping on a non-lexsorted multi-index without a level parameter may impact performance.\n",
      "  obj = obj._drop_axis(labels, axis, level=level, errors=errors)\n"
     ]
    }
   ],
   "source": [
    "df_sum =df_sum.groupby(['id','date','hour','variable']).sum().unstack().reset_index().sort_values(['id','date','hour']).fillna(0)\n",
    "df_agg =df_agg.groupby(['id','date','hour','variable']).mean().unstack().reset_index().sort_values(['id','date','hour']).fillna(0)\n",
    "data = df_sum.merge(df_agg,how='outer', on=[\"id\", \"date\",\"hour\"]).fillna(0)"
   ]
  },
  {
   "cell_type": "code",
   "execution_count": 16,
   "metadata": {},
   "outputs": [],
   "source": [
    "data.columns=data.columns.get_level_values(1)"
   ]
  },
  {
   "cell_type": "code",
   "execution_count": 17,
   "metadata": {},
   "outputs": [],
   "source": [
    "cols = ['id', 'date', 'hour', 'appCat.builtin', 'appCat.communication',\n",
    "       'appCat.entertainment', 'appCat.finance', 'appCat.game',\n",
    "       'appCat.office', 'appCat.other', 'appCat.social', 'appCat.travel',\n",
    "       'appCat.unknown', 'appCat.utilities', 'appCat.weather', 'call',\n",
    "       'screen', 'sms', 'activity', 'circumplex.arousal', 'circumplex.valence',\n",
    "       'mood']\n",
    "data.columns=cols"
   ]
  },
  {
   "cell_type": "code",
   "execution_count": 18,
   "metadata": {},
   "outputs": [
    {
     "data": {
      "text/html": [
       "<div>\n",
       "<style scoped>\n",
       "    .dataframe tbody tr th:only-of-type {\n",
       "        vertical-align: middle;\n",
       "    }\n",
       "\n",
       "    .dataframe tbody tr th {\n",
       "        vertical-align: top;\n",
       "    }\n",
       "\n",
       "    .dataframe thead th {\n",
       "        text-align: right;\n",
       "    }\n",
       "</style>\n",
       "<table border=\"1\" class=\"dataframe\">\n",
       "  <thead>\n",
       "    <tr style=\"text-align: right;\">\n",
       "      <th></th>\n",
       "      <th>id</th>\n",
       "      <th>date</th>\n",
       "      <th>hour</th>\n",
       "      <th>appCat.builtin</th>\n",
       "      <th>appCat.communication</th>\n",
       "      <th>appCat.entertainment</th>\n",
       "      <th>appCat.finance</th>\n",
       "      <th>appCat.game</th>\n",
       "      <th>appCat.office</th>\n",
       "      <th>appCat.other</th>\n",
       "      <th>...</th>\n",
       "      <th>appCat.unknown</th>\n",
       "      <th>appCat.utilities</th>\n",
       "      <th>appCat.weather</th>\n",
       "      <th>call</th>\n",
       "      <th>screen</th>\n",
       "      <th>sms</th>\n",
       "      <th>activity</th>\n",
       "      <th>circumplex.arousal</th>\n",
       "      <th>circumplex.valence</th>\n",
       "      <th>mood</th>\n",
       "    </tr>\n",
       "  </thead>\n",
       "  <tbody>\n",
       "    <tr>\n",
       "      <th>0</th>\n",
       "      <td>AS14.01</td>\n",
       "      <td>2014-02-17</td>\n",
       "      <td>12</td>\n",
       "      <td>0.0</td>\n",
       "      <td>0.0</td>\n",
       "      <td>0.0</td>\n",
       "      <td>0.0</td>\n",
       "      <td>0.0</td>\n",
       "      <td>0.0</td>\n",
       "      <td>0.0</td>\n",
       "      <td>...</td>\n",
       "      <td>0.0</td>\n",
       "      <td>0.0</td>\n",
       "      <td>0.0</td>\n",
       "      <td>1.0</td>\n",
       "      <td>0.0</td>\n",
       "      <td>0.0</td>\n",
       "      <td>0.0</td>\n",
       "      <td>0.0</td>\n",
       "      <td>0.0</td>\n",
       "      <td>0.0</td>\n",
       "    </tr>\n",
       "    <tr>\n",
       "      <th>1</th>\n",
       "      <td>AS14.01</td>\n",
       "      <td>2014-02-17</td>\n",
       "      <td>18</td>\n",
       "      <td>0.0</td>\n",
       "      <td>0.0</td>\n",
       "      <td>0.0</td>\n",
       "      <td>0.0</td>\n",
       "      <td>0.0</td>\n",
       "      <td>0.0</td>\n",
       "      <td>0.0</td>\n",
       "      <td>...</td>\n",
       "      <td>0.0</td>\n",
       "      <td>0.0</td>\n",
       "      <td>0.0</td>\n",
       "      <td>1.0</td>\n",
       "      <td>0.0</td>\n",
       "      <td>0.0</td>\n",
       "      <td>0.0</td>\n",
       "      <td>0.0</td>\n",
       "      <td>0.0</td>\n",
       "      <td>0.0</td>\n",
       "    </tr>\n",
       "    <tr>\n",
       "      <th>2</th>\n",
       "      <td>AS14.01</td>\n",
       "      <td>2014-02-18</td>\n",
       "      <td>9</td>\n",
       "      <td>0.0</td>\n",
       "      <td>0.0</td>\n",
       "      <td>0.0</td>\n",
       "      <td>0.0</td>\n",
       "      <td>0.0</td>\n",
       "      <td>0.0</td>\n",
       "      <td>0.0</td>\n",
       "      <td>...</td>\n",
       "      <td>0.0</td>\n",
       "      <td>0.0</td>\n",
       "      <td>0.0</td>\n",
       "      <td>1.0</td>\n",
       "      <td>0.0</td>\n",
       "      <td>0.0</td>\n",
       "      <td>0.0</td>\n",
       "      <td>0.0</td>\n",
       "      <td>0.0</td>\n",
       "      <td>0.0</td>\n",
       "    </tr>\n",
       "    <tr>\n",
       "      <th>3</th>\n",
       "      <td>AS14.01</td>\n",
       "      <td>2014-02-19</td>\n",
       "      <td>14</td>\n",
       "      <td>0.0</td>\n",
       "      <td>0.0</td>\n",
       "      <td>0.0</td>\n",
       "      <td>0.0</td>\n",
       "      <td>0.0</td>\n",
       "      <td>0.0</td>\n",
       "      <td>0.0</td>\n",
       "      <td>...</td>\n",
       "      <td>0.0</td>\n",
       "      <td>0.0</td>\n",
       "      <td>0.0</td>\n",
       "      <td>1.0</td>\n",
       "      <td>0.0</td>\n",
       "      <td>0.0</td>\n",
       "      <td>0.0</td>\n",
       "      <td>0.0</td>\n",
       "      <td>0.0</td>\n",
       "      <td>0.0</td>\n",
       "    </tr>\n",
       "    <tr>\n",
       "      <th>4</th>\n",
       "      <td>AS14.01</td>\n",
       "      <td>2014-02-19</td>\n",
       "      <td>17</td>\n",
       "      <td>0.0</td>\n",
       "      <td>0.0</td>\n",
       "      <td>0.0</td>\n",
       "      <td>0.0</td>\n",
       "      <td>0.0</td>\n",
       "      <td>0.0</td>\n",
       "      <td>0.0</td>\n",
       "      <td>...</td>\n",
       "      <td>0.0</td>\n",
       "      <td>0.0</td>\n",
       "      <td>0.0</td>\n",
       "      <td>4.0</td>\n",
       "      <td>0.0</td>\n",
       "      <td>1.0</td>\n",
       "      <td>0.0</td>\n",
       "      <td>0.0</td>\n",
       "      <td>0.0</td>\n",
       "      <td>0.0</td>\n",
       "    </tr>\n",
       "  </tbody>\n",
       "</table>\n",
       "<p>5 rows × 22 columns</p>\n",
       "</div>"
      ],
      "text/plain": [
       "        id       date  hour  appCat.builtin  appCat.communication  \\\n",
       "0  AS14.01 2014-02-17    12             0.0                   0.0   \n",
       "1  AS14.01 2014-02-17    18             0.0                   0.0   \n",
       "2  AS14.01 2014-02-18     9             0.0                   0.0   \n",
       "3  AS14.01 2014-02-19    14             0.0                   0.0   \n",
       "4  AS14.01 2014-02-19    17             0.0                   0.0   \n",
       "\n",
       "   appCat.entertainment  appCat.finance  appCat.game  appCat.office  \\\n",
       "0                   0.0             0.0          0.0            0.0   \n",
       "1                   0.0             0.0          0.0            0.0   \n",
       "2                   0.0             0.0          0.0            0.0   \n",
       "3                   0.0             0.0          0.0            0.0   \n",
       "4                   0.0             0.0          0.0            0.0   \n",
       "\n",
       "   appCat.other  ...  appCat.unknown  appCat.utilities  appCat.weather  call  \\\n",
       "0           0.0  ...             0.0               0.0             0.0   1.0   \n",
       "1           0.0  ...             0.0               0.0             0.0   1.0   \n",
       "2           0.0  ...             0.0               0.0             0.0   1.0   \n",
       "3           0.0  ...             0.0               0.0             0.0   1.0   \n",
       "4           0.0  ...             0.0               0.0             0.0   4.0   \n",
       "\n",
       "   screen  sms  activity  circumplex.arousal  circumplex.valence  mood  \n",
       "0     0.0  0.0       0.0                 0.0                 0.0   0.0  \n",
       "1     0.0  0.0       0.0                 0.0                 0.0   0.0  \n",
       "2     0.0  0.0       0.0                 0.0                 0.0   0.0  \n",
       "3     0.0  0.0       0.0                 0.0                 0.0   0.0  \n",
       "4     0.0  1.0       0.0                 0.0                 0.0   0.0  \n",
       "\n",
       "[5 rows x 22 columns]"
      ]
     },
     "execution_count": 18,
     "metadata": {},
     "output_type": "execute_result"
    }
   ],
   "source": [
    "data.head()"
   ]
  },
  {
   "cell_type": "code",
   "execution_count": 19,
   "metadata": {},
   "outputs": [
    {
     "name": "stdout",
     "output_type": "stream",
     "text": [
      "2662.9862874758546\n",
      "2662.986287475854\n"
     ]
    }
   ],
   "source": [
    "# checking that variable values haven't changed because of the merge\n",
    "df_agg = df[df['variable'].isin(agg)]\n",
    "print(df_agg['value'][df_agg['variable'] == 'activity'].sum())\n",
    "print(data['activity'].sum())"
   ]
  },
  {
   "cell_type": "code",
   "execution_count": 20,
   "metadata": {},
   "outputs": [
    {
     "data": {
      "text/plain": [
       "991.5555555555555"
      ]
     },
     "execution_count": 20,
     "metadata": {},
     "output_type": "execute_result"
    }
   ],
   "source": [
    "average_rows = data[['id','hour']].groupby(['id']).count()\n",
    "average_rows.hour.mean()"
   ]
  },
  {
   "cell_type": "code",
   "execution_count": 21,
   "metadata": {},
   "outputs": [
    {
     "data": {
      "text/html": [
       "<div>\n",
       "<style scoped>\n",
       "    .dataframe tbody tr th:only-of-type {\n",
       "        vertical-align: middle;\n",
       "    }\n",
       "\n",
       "    .dataframe tbody tr th {\n",
       "        vertical-align: top;\n",
       "    }\n",
       "\n",
       "    .dataframe thead th {\n",
       "        text-align: right;\n",
       "    }\n",
       "</style>\n",
       "<table border=\"1\" class=\"dataframe\">\n",
       "  <thead>\n",
       "    <tr style=\"text-align: right;\">\n",
       "      <th></th>\n",
       "      <th>hour</th>\n",
       "      <th>appCat.builtin</th>\n",
       "      <th>appCat.communication</th>\n",
       "      <th>appCat.entertainment</th>\n",
       "      <th>appCat.finance</th>\n",
       "      <th>appCat.game</th>\n",
       "      <th>appCat.office</th>\n",
       "      <th>appCat.other</th>\n",
       "      <th>appCat.social</th>\n",
       "      <th>appCat.travel</th>\n",
       "      <th>appCat.unknown</th>\n",
       "      <th>appCat.utilities</th>\n",
       "      <th>appCat.weather</th>\n",
       "      <th>call</th>\n",
       "      <th>screen</th>\n",
       "      <th>sms</th>\n",
       "      <th>activity</th>\n",
       "      <th>circumplex.arousal</th>\n",
       "      <th>circumplex.valence</th>\n",
       "      <th>mood</th>\n",
       "    </tr>\n",
       "  </thead>\n",
       "  <tbody>\n",
       "    <tr>\n",
       "      <th>count</th>\n",
       "      <td>26772.000000</td>\n",
       "      <td>26772.000000</td>\n",
       "      <td>26772.000000</td>\n",
       "      <td>26772.000000</td>\n",
       "      <td>26772.000000</td>\n",
       "      <td>26772.000000</td>\n",
       "      <td>26772.000000</td>\n",
       "      <td>26772.000000</td>\n",
       "      <td>26772.000000</td>\n",
       "      <td>26772.000000</td>\n",
       "      <td>26772.000000</td>\n",
       "      <td>26772.000000</td>\n",
       "      <td>26772.000000</td>\n",
       "      <td>26772.000000</td>\n",
       "      <td>26772.000000</td>\n",
       "      <td>26772.000000</td>\n",
       "      <td>26772.000000</td>\n",
       "      <td>26772.000000</td>\n",
       "      <td>26772.000000</td>\n",
       "      <td>26772.000000</td>\n",
       "    </tr>\n",
       "    <tr>\n",
       "      <th>mean</th>\n",
       "      <td>12.195615</td>\n",
       "      <td>66.306799</td>\n",
       "      <td>120.252634</td>\n",
       "      <td>38.071942</td>\n",
       "      <td>0.763043</td>\n",
       "      <td>3.898939</td>\n",
       "      <td>4.758334</td>\n",
       "      <td>7.375352</td>\n",
       "      <td>51.775530</td>\n",
       "      <td>4.861422</td>\n",
       "      <td>1.597724</td>\n",
       "      <td>1.722056</td>\n",
       "      <td>0.191914</td>\n",
       "      <td>0.195690</td>\n",
       "      <td>271.766154</td>\n",
       "      <td>0.067160</td>\n",
       "      <td>0.099469</td>\n",
       "      <td>-0.020469</td>\n",
       "      <td>0.140856</td>\n",
       "      <td>1.470249</td>\n",
       "    </tr>\n",
       "    <tr>\n",
       "      <th>std</th>\n",
       "      <td>6.750556</td>\n",
       "      <td>585.641931</td>\n",
       "      <td>315.731293</td>\n",
       "      <td>287.838086</td>\n",
       "      <td>12.625473</td>\n",
       "      <td>70.030881</td>\n",
       "      <td>209.039767</td>\n",
       "      <td>69.684741</td>\n",
       "      <td>262.468208</td>\n",
       "      <td>86.099211</td>\n",
       "      <td>28.905871</td>\n",
       "      <td>24.285048</td>\n",
       "      <td>3.551193</td>\n",
       "      <td>0.682929</td>\n",
       "      <td>593.177257</td>\n",
       "      <td>0.381839</td>\n",
       "      <td>0.177818</td>\n",
       "      <td>0.481602</td>\n",
       "      <td>0.411075</td>\n",
       "      <td>2.888778</td>\n",
       "    </tr>\n",
       "    <tr>\n",
       "      <th>min</th>\n",
       "      <td>0.000000</td>\n",
       "      <td>0.000000</td>\n",
       "      <td>0.000000</td>\n",
       "      <td>0.000000</td>\n",
       "      <td>0.000000</td>\n",
       "      <td>0.000000</td>\n",
       "      <td>0.000000</td>\n",
       "      <td>0.000000</td>\n",
       "      <td>0.000000</td>\n",
       "      <td>0.000000</td>\n",
       "      <td>0.000000</td>\n",
       "      <td>0.000000</td>\n",
       "      <td>0.000000</td>\n",
       "      <td>0.000000</td>\n",
       "      <td>0.000000</td>\n",
       "      <td>0.000000</td>\n",
       "      <td>0.000000</td>\n",
       "      <td>-2.000000</td>\n",
       "      <td>-2.000000</td>\n",
       "      <td>0.000000</td>\n",
       "    </tr>\n",
       "    <tr>\n",
       "      <th>25%</th>\n",
       "      <td>7.000000</td>\n",
       "      <td>0.000000</td>\n",
       "      <td>0.000000</td>\n",
       "      <td>0.000000</td>\n",
       "      <td>0.000000</td>\n",
       "      <td>0.000000</td>\n",
       "      <td>0.000000</td>\n",
       "      <td>0.000000</td>\n",
       "      <td>0.000000</td>\n",
       "      <td>0.000000</td>\n",
       "      <td>0.000000</td>\n",
       "      <td>0.000000</td>\n",
       "      <td>0.000000</td>\n",
       "      <td>0.000000</td>\n",
       "      <td>0.000000</td>\n",
       "      <td>0.000000</td>\n",
       "      <td>0.000000</td>\n",
       "      <td>0.000000</td>\n",
       "      <td>0.000000</td>\n",
       "      <td>0.000000</td>\n",
       "    </tr>\n",
       "    <tr>\n",
       "      <th>50%</th>\n",
       "      <td>13.000000</td>\n",
       "      <td>0.000000</td>\n",
       "      <td>0.000000</td>\n",
       "      <td>0.000000</td>\n",
       "      <td>0.000000</td>\n",
       "      <td>0.000000</td>\n",
       "      <td>0.000000</td>\n",
       "      <td>0.000000</td>\n",
       "      <td>0.000000</td>\n",
       "      <td>0.000000</td>\n",
       "      <td>0.000000</td>\n",
       "      <td>0.000000</td>\n",
       "      <td>0.000000</td>\n",
       "      <td>0.000000</td>\n",
       "      <td>30.124000</td>\n",
       "      <td>0.000000</td>\n",
       "      <td>0.000000</td>\n",
       "      <td>0.000000</td>\n",
       "      <td>0.000000</td>\n",
       "      <td>0.000000</td>\n",
       "    </tr>\n",
       "    <tr>\n",
       "      <th>75%</th>\n",
       "      <td>18.000000</td>\n",
       "      <td>34.766750</td>\n",
       "      <td>102.268750</td>\n",
       "      <td>0.000000</td>\n",
       "      <td>0.000000</td>\n",
       "      <td>0.000000</td>\n",
       "      <td>0.000000</td>\n",
       "      <td>0.000000</td>\n",
       "      <td>0.000000</td>\n",
       "      <td>0.000000</td>\n",
       "      <td>0.000000</td>\n",
       "      <td>0.000000</td>\n",
       "      <td>0.000000</td>\n",
       "      <td>0.000000</td>\n",
       "      <td>292.445250</td>\n",
       "      <td>0.000000</td>\n",
       "      <td>0.117647</td>\n",
       "      <td>0.000000</td>\n",
       "      <td>0.000000</td>\n",
       "      <td>0.000000</td>\n",
       "    </tr>\n",
       "    <tr>\n",
       "      <th>max</th>\n",
       "      <td>23.000000</td>\n",
       "      <td>33963.260000</td>\n",
       "      <td>9860.949000</td>\n",
       "      <td>32460.830000</td>\n",
       "      <td>1014.743000</td>\n",
       "      <td>6814.306000</td>\n",
       "      <td>32715.835000</td>\n",
       "      <td>4280.902000</td>\n",
       "      <td>30002.926000</td>\n",
       "      <td>10476.964000</td>\n",
       "      <td>2239.937000</td>\n",
       "      <td>2137.591000</td>\n",
       "      <td>344.863000</td>\n",
       "      <td>16.000000</td>\n",
       "      <td>9987.160000</td>\n",
       "      <td>10.000000</td>\n",
       "      <td>1.000000</td>\n",
       "      <td>2.000000</td>\n",
       "      <td>2.000000</td>\n",
       "      <td>10.000000</td>\n",
       "    </tr>\n",
       "  </tbody>\n",
       "</table>\n",
       "</div>"
      ],
      "text/plain": [
       "               hour  appCat.builtin  appCat.communication  \\\n",
       "count  26772.000000    26772.000000          26772.000000   \n",
       "mean      12.195615       66.306799            120.252634   \n",
       "std        6.750556      585.641931            315.731293   \n",
       "min        0.000000        0.000000              0.000000   \n",
       "25%        7.000000        0.000000              0.000000   \n",
       "50%       13.000000        0.000000              0.000000   \n",
       "75%       18.000000       34.766750            102.268750   \n",
       "max       23.000000    33963.260000           9860.949000   \n",
       "\n",
       "       appCat.entertainment  appCat.finance   appCat.game  appCat.office  \\\n",
       "count          26772.000000    26772.000000  26772.000000   26772.000000   \n",
       "mean              38.071942        0.763043      3.898939       4.758334   \n",
       "std              287.838086       12.625473     70.030881     209.039767   \n",
       "min                0.000000        0.000000      0.000000       0.000000   \n",
       "25%                0.000000        0.000000      0.000000       0.000000   \n",
       "50%                0.000000        0.000000      0.000000       0.000000   \n",
       "75%                0.000000        0.000000      0.000000       0.000000   \n",
       "max            32460.830000     1014.743000   6814.306000   32715.835000   \n",
       "\n",
       "       appCat.other  appCat.social  appCat.travel  appCat.unknown  \\\n",
       "count  26772.000000   26772.000000   26772.000000    26772.000000   \n",
       "mean       7.375352      51.775530       4.861422        1.597724   \n",
       "std       69.684741     262.468208      86.099211       28.905871   \n",
       "min        0.000000       0.000000       0.000000        0.000000   \n",
       "25%        0.000000       0.000000       0.000000        0.000000   \n",
       "50%        0.000000       0.000000       0.000000        0.000000   \n",
       "75%        0.000000       0.000000       0.000000        0.000000   \n",
       "max     4280.902000   30002.926000   10476.964000     2239.937000   \n",
       "\n",
       "       appCat.utilities  appCat.weather          call        screen  \\\n",
       "count      26772.000000    26772.000000  26772.000000  26772.000000   \n",
       "mean           1.722056        0.191914      0.195690    271.766154   \n",
       "std           24.285048        3.551193      0.682929    593.177257   \n",
       "min            0.000000        0.000000      0.000000      0.000000   \n",
       "25%            0.000000        0.000000      0.000000      0.000000   \n",
       "50%            0.000000        0.000000      0.000000     30.124000   \n",
       "75%            0.000000        0.000000      0.000000    292.445250   \n",
       "max         2137.591000      344.863000     16.000000   9987.160000   \n",
       "\n",
       "                sms      activity  circumplex.arousal  circumplex.valence  \\\n",
       "count  26772.000000  26772.000000        26772.000000        26772.000000   \n",
       "mean       0.067160      0.099469           -0.020469            0.140856   \n",
       "std        0.381839      0.177818            0.481602            0.411075   \n",
       "min        0.000000      0.000000           -2.000000           -2.000000   \n",
       "25%        0.000000      0.000000            0.000000            0.000000   \n",
       "50%        0.000000      0.000000            0.000000            0.000000   \n",
       "75%        0.000000      0.117647            0.000000            0.000000   \n",
       "max       10.000000      1.000000            2.000000            2.000000   \n",
       "\n",
       "               mood  \n",
       "count  26772.000000  \n",
       "mean       1.470249  \n",
       "std        2.888778  \n",
       "min        0.000000  \n",
       "25%        0.000000  \n",
       "50%        0.000000  \n",
       "75%        0.000000  \n",
       "max       10.000000  "
      ]
     },
     "execution_count": 21,
     "metadata": {},
     "output_type": "execute_result"
    }
   ],
   "source": [
    "data.describe()"
   ]
  },
  {
   "cell_type": "markdown",
   "metadata": {},
   "source": [
    "#### timespan"
   ]
  },
  {
   "cell_type": "code",
   "execution_count": 22,
   "metadata": {},
   "outputs": [],
   "source": [
    "timespan = data[['id','date']].groupby('id').apply(lambda x: x.max() - x.min())       #{'date' : [np.min, np.max]})"
   ]
  },
  {
   "cell_type": "code",
   "execution_count": 25,
   "metadata": {},
   "outputs": [
    {
     "data": {
      "text/html": [
       "<div>\n",
       "<style scoped>\n",
       "    .dataframe tbody tr th:only-of-type {\n",
       "        vertical-align: middle;\n",
       "    }\n",
       "\n",
       "    .dataframe tbody tr th {\n",
       "        vertical-align: top;\n",
       "    }\n",
       "\n",
       "    .dataframe thead th {\n",
       "        text-align: right;\n",
       "    }\n",
       "</style>\n",
       "<table border=\"1\" class=\"dataframe\">\n",
       "  <thead>\n",
       "    <tr style=\"text-align: right;\">\n",
       "      <th></th>\n",
       "      <th>date</th>\n",
       "    </tr>\n",
       "  </thead>\n",
       "  <tbody>\n",
       "    <tr>\n",
       "      <th>count</th>\n",
       "      <td>27</td>\n",
       "    </tr>\n",
       "    <tr>\n",
       "      <th>mean</th>\n",
       "      <td>78 days 18:40:00</td>\n",
       "    </tr>\n",
       "    <tr>\n",
       "      <th>std</th>\n",
       "      <td>10 days 10:30:30.262044062</td>\n",
       "    </tr>\n",
       "    <tr>\n",
       "      <th>min</th>\n",
       "      <td>49 days 00:00:00</td>\n",
       "    </tr>\n",
       "    <tr>\n",
       "      <th>25%</th>\n",
       "      <td>76 days 12:00:00</td>\n",
       "    </tr>\n",
       "    <tr>\n",
       "      <th>50%</th>\n",
       "      <td>77 days 00:00:00</td>\n",
       "    </tr>\n",
       "    <tr>\n",
       "      <th>75%</th>\n",
       "      <td>80 days 00:00:00</td>\n",
       "    </tr>\n",
       "    <tr>\n",
       "      <th>max</th>\n",
       "      <td>103 days 00:00:00</td>\n",
       "    </tr>\n",
       "  </tbody>\n",
       "</table>\n",
       "</div>"
      ],
      "text/plain": [
       "                             date\n",
       "count                          27\n",
       "mean             78 days 18:40:00\n",
       "std    10 days 10:30:30.262044062\n",
       "min              49 days 00:00:00\n",
       "25%              76 days 12:00:00\n",
       "50%              77 days 00:00:00\n",
       "75%              80 days 00:00:00\n",
       "max             103 days 00:00:00"
      ]
     },
     "execution_count": 25,
     "metadata": {},
     "output_type": "execute_result"
    }
   ],
   "source": [
    "timespan.describe()"
   ]
  },
  {
   "cell_type": "code",
   "execution_count": 207,
   "metadata": {},
   "outputs": [],
   "source": [
    "timespan.date = timespan.date.dt.days"
   ]
  },
  {
   "cell_type": "code",
   "execution_count": 208,
   "metadata": {},
   "outputs": [
    {
     "data": {
      "image/png": "[encoded data removed]",
      "text/plain": [
       "<Figure size 432x288 with 1 Axes>"
      ]
     },
     "metadata": {},
     "output_type": "display_data"
    }
   ],
   "source": [
    "timespan.plot.hist(grid=True, bins=20, rwidth=0.9,\n",
    "                   color='#607c8e')\n",
    "plt.title('timespan per participant')\n",
    "plt.xlabel('Counts')\n",
    "plt.ylabel('timespan')\n",
    "plt.grid(axis='y', alpha=0.75)"
   ]
  },
  {
   "cell_type": "code",
   "execution_count": 2,
   "metadata": {},
   "outputs": [
    {
     "ename": "NameError",
     "evalue": "name 'df' is not defined",
     "output_type": "error",
     "traceback": [
      "\u001b[0;31m---------------------------------------------------------------------------\u001b[0m",
      "\u001b[0;31mNameError\u001b[0m                                 Traceback (most recent call last)",
      "\u001b[0;32m<ipython-input-2-ae5b75dcfbbc>\u001b[0m in \u001b[0;36m<module>\u001b[0;34m\u001b[0m\n\u001b[0;32m----> 1\u001b[0;31m \u001b[0mtest\u001b[0m\u001b[0;34m=\u001b[0m\u001b[0mdf\u001b[0m\u001b[0;34m[\u001b[0m\u001b[0mdf\u001b[0m\u001b[0;34m[\u001b[0m\u001b[0;34m'id'\u001b[0m\u001b[0;34m]\u001b[0m\u001b[0;34m==\u001b[0m\u001b[0;34m'AS14.01'\u001b[0m\u001b[0;34m]\u001b[0m\u001b[0;34m\u001b[0m\u001b[0;34m\u001b[0m\u001b[0m\n\u001b[0m\u001b[1;32m      2\u001b[0m \u001b[0mprint\u001b[0m\u001b[0;34m(\u001b[0m\u001b[0mtest\u001b[0m\u001b[0;34m.\u001b[0m\u001b[0mdate\u001b[0m\u001b[0;34m.\u001b[0m\u001b[0mmax\u001b[0m\u001b[0;34m(\u001b[0m\u001b[0;34m)\u001b[0m\u001b[0;34m-\u001b[0m\u001b[0mtest\u001b[0m\u001b[0;34m.\u001b[0m\u001b[0mdate\u001b[0m\u001b[0;34m.\u001b[0m\u001b[0mmin\u001b[0m\u001b[0;34m(\u001b[0m\u001b[0;34m)\u001b[0m\u001b[0;34m)\u001b[0m\u001b[0;34m\u001b[0m\u001b[0;34m\u001b[0m\u001b[0m\n",
      "\u001b[0;31mNameError\u001b[0m: name 'df' is not defined"
     ]
    }
   ],
   "source": [
    "test=df[df['id']=='AS14.01']\n",
    "print(test.date.max()-test.date.min())\n"
   ]
  },
  {
   "cell_type": "code",
   "execution_count": 259,
   "metadata": {},
   "outputs": [
    {
     "data": {
      "text/plain": [
       "2.6871411226437174"
      ]
     },
     "execution_count": 259,
     "metadata": {},
     "output_type": "execute_result"
    }
   ],
   "source": [
    "mood_perday =  data[['id','date','mood']].groupby('id').agg({'date' : lambda x: x.max() - x.min(),\n",
    "                                      'mood' : lambda x: (x != 0).sum()                   \n",
    "                                      })\n",
    "\n",
    "mood_perday['mood_per_day'] = mood_perday['mood']/ mood_perday['date'].dt.days\n",
    "mood_perday['mood_per_day'].mean()"
   ]
  },
  {
   "cell_type": "markdown",
   "metadata": {},
   "source": [
    "### correlation plot"
   ]
  },
  {
   "cell_type": "code",
   "execution_count": 43,
   "metadata": {},
   "outputs": [],
   "source": [
    "corr_df = data[['hour', 'appCat.builtin', 'appCat.communication',\n",
    "       'appCat.entertainment', 'appCat.finance', 'appCat.game',\n",
    "       'appCat.office', 'appCat.other', 'appCat.social', 'appCat.travel',\n",
    "       'appCat.unknown', 'appCat.utilities', 'appCat.weather', 'call',\n",
    "       'screen', 'sms', 'activity', 'circumplex.arousal', 'circumplex.valence',\n",
    "       'mood']]"
   ]
  },
  {
   "cell_type": "code",
   "execution_count": 44,
   "metadata": {},
   "outputs": [
    {
     "data": {
      "image/png": "[encoded data removed]",
      "text/plain": [
       "<Figure size 1368x1080 with 2 Axes>"
      ]
     },
     "metadata": {
      "needs_background": "light"
     },
     "output_type": "display_data"
    }
   ],
   "source": [
    "f = plt.figure(figsize=(19, 15))\n",
    "plt.matshow(corr_df.corr(), fignum=f.number)\n",
    "plt.xticks(range(corr_df.select_dtypes(['number']).shape[1]), corr_df.select_dtypes(['number']).columns, fontsize=14, rotation=45)\n",
    "plt.yticks(range(corr_df.select_dtypes(['number']).shape[1]), corr_df.select_dtypes(['number']).columns, fontsize=14)\n",
    "cb = plt.colorbar()\n",
    "cb.ax.tick_params(labelsize=14)\n",
    "plt.title('Correlation Matrix', fontsize=16);"
   ]
  }
 ],
 "metadata": {
  "kernelspec": {
   "display_name": "werkcollege",
   "language": "python",
   "name": "werkcollege"
  },
  "language_info": {
   "codemirror_mode": {
    "name": "ipython",
    "version": 3
   },
   "file_extension": ".py",
   "mimetype": "text/x-python",
   "name": "python",
   "nbconvert_exporter": "python",
   "pygments_lexer": "ipython3",
   "version": "3.7.2"
  }
 },
 "nbformat": 4,
 "nbformat_minor": 4
}
